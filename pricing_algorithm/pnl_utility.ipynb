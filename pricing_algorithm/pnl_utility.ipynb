{
 "cells": [
  {
   "cell_type": "code",
   "execution_count": 6,
   "metadata": {},
   "outputs": [],
   "source": [
    "import numpy as np\n",
    "import pandas as pd\n",
    "from matplotlib import pyplot as plt"
   ]
  },
  {
   "cell_type": "markdown",
   "metadata": {},
   "source": [
    "# PnL Calculation Utility\n",
    "- Takes in data from the classic pricing model, the pathfinding algorithm, and the updated pricing model as well and then computes PnL before and after using our pipeline."
   ]
  },
  {
   "cell_type": "code",
   "execution_count": 7,
   "metadata": {},
   "outputs": [],
   "source": [
    "# Load the Excel file for expected loss and CSV file for path deviation\n",
    "expected_loss_df = pd.read_excel(\"Expected_Loss_Input (1).xlsx\", names=[\"policy_number\", \"expected_loss\"])\n",
    "path_deviation_df = pd.read_csv(\"path_deviation.csv\", names=[\"policy_number\", \"average_path_deviation\"])\n",
    "\n",
    "# # Merge the two dataframes on 'policy_number'\n",
    "# merged_df = pd.merge(expected_loss_df, path_deviation_df, on=\"policy_number\", how=\"inner\")\n",
    "\n",
    "# # Create a dictionary to store a dataframe for each customer\n",
    "# customer_dataframes = {policy: data[['expected_loss', 'average_path_deviation']]\n",
    "#                        for policy, data in merged_df.groupby('policy_number')}"
   ]
  },
  {
   "cell_type": "markdown",
   "metadata": {},
   "source": [
    "## Loading Factor Tuneable Parameters\n",
    "- Input from frontend"
   ]
  },
  {
   "cell_type": "code",
   "execution_count": 8,
   "metadata": {},
   "outputs": [],
   "source": [
    "profit_percent = 10\n",
    "margin_of_safety = 10\n",
    "admin_fee = 10"
   ]
  },
  {
   "cell_type": "code",
   "execution_count": 10,
   "metadata": {},
   "outputs": [],
   "source": [
    "loading_factor = 1 + profit_percent + margin_of_safety + admin_fee"
   ]
  },
  {
   "cell_type": "markdown",
   "metadata": {},
   "source": [
    "## Path Risk Tuneable Parameters\n",
    "- Input from frontend"
   ]
  },
  {
   "cell_type": "code",
   "execution_count": 9,
   "metadata": {},
   "outputs": [],
   "source": [
    "delta_low = 10\n",
    "delta_med = 5\n",
    "delta_high = 0\n",
    "\n",
    "low_risk_thresh = 10 # I_low = [0, low_risk_thresh]\n",
    "med_risk_thresh = 11 # I_med = (low_risk_thresh, high_risk_thresh)\n",
    "high_risk_thresh = 12 # I_high = [high_risk_thresh, infinity)"
   ]
  },
  {
   "cell_type": "code",
   "execution_count": 11,
   "metadata": {},
   "outputs": [],
   "source": [
    "classic_prices_df = expected_loss_df * loading_factor"
   ]
  },
  {
   "cell_type": "code",
   "execution_count": null,
   "metadata": {},
   "outputs": [],
   "source": []
  }
 ],
 "metadata": {
  "kernelspec": {
   "display_name": "math4210",
   "language": "python",
   "name": "python3"
  },
  "language_info": {
   "codemirror_mode": {
    "name": "ipython",
    "version": 3
   },
   "file_extension": ".py",
   "mimetype": "text/x-python",
   "name": "python",
   "nbconvert_exporter": "python",
   "pygments_lexer": "ipython3",
   "version": "3.12.7"
  }
 },
 "nbformat": 4,
 "nbformat_minor": 2
}
