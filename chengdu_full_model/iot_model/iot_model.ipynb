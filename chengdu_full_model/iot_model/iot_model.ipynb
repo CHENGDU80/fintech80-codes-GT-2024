{
 "cells": [
  {
   "cell_type": "code",
   "execution_count": 151,
   "id": "38b27af5",
   "metadata": {},
   "outputs": [],
   "source": [
    "import pandas as pd\n",
    "from sklearn.model_selection import train_test_split\n",
    "from sklearn.preprocessing import StandardScaler\n",
    "import statsmodels.api as sm\n",
    "from sklearn.linear_model import LogisticRegression\n",
    "from sklearn.metrics import classification_report\n",
    "from sklearn.svm import SVC\n",
    "from sklearn.naive_bayes import GaussianNB\n",
    "import matplotlib.pyplot as plt\n",
    "import seaborn as sns\n",
    "import numpy as np\n",
    "from sklearn.preprocessing import MinMaxScaler"
   ]
  },
  {
   "cell_type": "markdown",
   "id": "57979478",
   "metadata": {},
   "source": [
    "## Logistic regression for risk scores"
   ]
  },
  {
   "cell_type": "code",
   "execution_count": 144,
   "id": "63f7ba42",
   "metadata": {},
   "outputs": [],
   "source": [
    "alonso_0208_lab = pd.read_csv('Human-Driving and AV IoT Data/Human Driver IoT Datasets/Polidriving Dataset/alonso/20240208_120000/20240208_120000_lab.csv')\n",
    "alonso_0208_nor = pd.read_csv('Human-Driving and AV IoT Data/Human Driver IoT Datasets/Polidriving Dataset/alonso/20240208_120000/20240208_120000_nor.csv')\n",
    "alonso_0208_ovs = pd.read_csv('Human-Driving and AV IoT Data/Human Driver IoT Datasets/Polidriving Dataset/alonso/20240208_120000/20240208_120000_ovs.csv')\n",
    "alonso_0208_res = pd.read_csv('Human-Driving and AV IoT Data/Human Driver IoT Datasets/Polidriving Dataset/alonso/20240208_120000/20240208_120000_res.csv')\n",
    "alonso_1201_lab = pd.read_csv('Human-Driving and AV IoT Data/Human Driver IoT Datasets/Polidriving Dataset/alonso/23241201_290300/23241201_290300_lab.csv')\n",
    "alonso_1201_nor = pd.read_csv('Human-Driving and AV IoT Data/Human Driver IoT Datasets/Polidriving Dataset/alonso/23241201_290300/23241201_290300_nor.csv')\n"
   ]
  },
  {
   "cell_type": "code",
   "execution_count": 169,
   "id": "adbb8a30",
   "metadata": {},
   "outputs": [],
   "source": [
    "full_df = pd.concat([alonso_0208_lab, alonso_0208_nor, alonso_0208_ovs, alonso_0208_res, alonso_1201_lab, alonso_1201_nor])\n",
    "full_df = full_df.drop_duplicates()\n",
    "full_df = full_df.drop(columns=['Unnamed: 0'])\n",
    "\n",
    "\n",
    "full_df['risk_level'] = 5 - full_df['risk_level']"
   ]
  },
  {
   "cell_type": "code",
   "execution_count": 179,
   "id": "bd1f47c2",
   "metadata": {},
   "outputs": [],
   "source": [
    "X = full_df.drop(columns=['risk_level'])\n",
    "y = full_df['risk_level']\n",
    "\n",
    "X_train, X_test, y_train, y_test = train_test_split(X, y, test_size=0.2, random_state=42)\n",
    "\n",
    "# Scale the data for better convergence\n",
    "scaler = StandardScaler()\n",
    "X_train_scaled = scaler.fit_transform(X_train)\n",
    "X_test_scaled = scaler.transform(X_test)\n",
    "\n",
    "# Logistic Regression (Multinomial) with increased iterations and balanced class weight\n",
    "logistic_model = LogisticRegression(multi_class='multinomial', solver='lbfgs', max_iter=1000, class_weight='balanced')\n",
    "logistic_model.fit(X_train_scaled, y_train)\n",
    "y_pred_logistic = logistic_model.predict_proba(X_test_scaled)\n",
    "\n",
    "risk_values = np.array([0, 0.33, 0.67, 1])\n",
    "y_pred_weighted = np.dot(y_pred_logistic, risk_values)"
   ]
  },
  {
   "cell_type": "code",
   "execution_count": 152,
   "id": "85f270de",
   "metadata": {},
   "outputs": [
    {
     "name": "stdout",
     "output_type": "stream",
     "text": [
      "               Feature  Importance\n",
      "9           visibility   16.508738\n",
      "5   engine_temperature    6.964229\n",
      "0     observation_hour    6.254969\n",
      "7           heart_rate    5.824795\n",
      "12        design_speed    4.489696\n",
      "1                speed    2.377940\n",
      "8      current_weather    2.240212\n",
      "13      accidents_time    1.511282\n",
      "10       precipitation    1.340412\n",
      "2                  rpm    1.078075\n",
      "4    throttle_position    0.489985\n",
      "11    accidents_onsite    0.381964\n",
      "3         acceleration    0.325192\n",
      "6    engine_load_value    0.144017\n"
     ]
    }
   ],
   "source": [
    "# Retrieve the coefficients (log-odds) from the model\n",
    "coefficients = logistic_model.coef_\n",
    "\n",
    "# Get the feature names (the columns of your X dataset)\n",
    "feature_names = X_train.columns\n",
    "\n",
    "# For multinomial logistic regression, we will have coefficients for each class\n",
    "# Take the absolute value of coefficients for ranking\n",
    "importance = np.abs(coefficients).mean(axis=0)\n",
    "\n",
    "# Create a dataframe to display feature importance\n",
    "importance_df = pd.DataFrame({\n",
    "    'Feature': feature_names,\n",
    "    'Importance': importance\n",
    "})\n",
    "\n",
    "# Sort by importance\n",
    "importance_df = importance_df.sort_values(by='Importance', ascending=False)\n",
    "\n",
    "# Display the ranked feature importance\n",
    "print(importance_df)\n"
   ]
  }
 ],
 "metadata": {
  "kernelspec": {
   "display_name": "Python 3 (ipykernel)",
   "language": "python",
   "name": "python3"
  },
  "language_info": {
   "codemirror_mode": {
    "name": "ipython",
    "version": 3
   },
   "file_extension": ".py",
   "mimetype": "text/x-python",
   "name": "python",
   "nbconvert_exporter": "python",
   "pygments_lexer": "ipython3",
   "version": "3.11.5"
  }
 },
 "nbformat": 4,
 "nbformat_minor": 5
}
