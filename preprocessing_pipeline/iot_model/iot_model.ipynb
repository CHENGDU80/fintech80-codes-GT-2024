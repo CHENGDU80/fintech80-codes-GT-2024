{
 "cells": [
  {
   "cell_type": "markdown",
   "id": "d0861153",
   "metadata": {},
   "source": [
    "# Import Necessary Libraries"
   ]
  },
  {
   "cell_type": "code",
   "execution_count": null,
   "id": "8b2458b4",
   "metadata": {},
   "outputs": [],
   "source": [
    "# Importing libraries for data processing, model training, evaluation, and visualization\n",
    "import pandas as pd\n",
    "from sklearn.model_selection import train_test_split\n",
    "from sklearn.preprocessing import StandardScaler\n",
    "import statsmodels.api as sm\n",
    "from sklearn.linear_model import LogisticRegression\n",
    "from sklearn.metrics import classification_report\n",
    "from sklearn.svm import SVC\n",
    "from sklearn.naive_bayes import GaussianNB\n",
    "import matplotlib.pyplot as plt\n",
    "import seaborn as sns\n",
    "import numpy as np\n",
    "from sklearn.preprocessing import MinMaxScaler"
   ]
  },
  {
   "cell_type": "markdown",
   "id": "57979478",
   "metadata": {},
   "source": [
    "# Load Dataset Files"
   ]
  },
  {
   "cell_type": "code",
   "execution_count": 144,
   "id": "63f7ba42",
   "metadata": {},
   "outputs": [],
   "source": [
    "# Load multiple CSV files containing IoT data from different scenarios\n",
    "alonso_0208_lab = pd.read_csv('Human-Driving and AV IoT Data/Human Driver IoT Datasets/Polidriving Dataset/alonso/20240208_120000/20240208_120000_lab.csv')\n",
    "alonso_0208_nor = pd.read_csv('Human-Driving and AV IoT Data/Human Driver IoT Datasets/Polidriving Dataset/alonso/20240208_120000/20240208_120000_nor.csv')\n",
    "alonso_0208_ovs = pd.read_csv('Human-Driving and AV IoT Data/Human Driver IoT Datasets/Polidriving Dataset/alonso/20240208_120000/20240208_120000_ovs.csv')\n",
    "alonso_0208_res = pd.read_csv('Human-Driving and AV IoT Data/Human Driver IoT Datasets/Polidriving Dataset/alonso/20240208_120000/20240208_120000_res.csv')\n",
    "alonso_1201_lab = pd.read_csv('Human-Driving and AV IoT Data/Human Driver IoT Datasets/Polidriving Dataset/alonso/23241201_290300/23241201_290300_lab.csv')\n",
    "alonso_1201_nor = pd.read_csv('Human-Driving and AV IoT Data/Human Driver IoT Datasets/Polidriving Dataset/alonso/23241201_290300/23241201_290300_nor.csv')"
   ]
  },
  {
   "cell_type": "markdown",
   "id": "4c57be43",
   "metadata": {},
   "source": [
    "# Concatenate and Preprocess the Data"
   ]
  },
  {
   "cell_type": "code",
   "execution_count": 169,
   "id": "adbb8a30",
   "metadata": {},
   "outputs": [],
   "source": [
    "# Concatenate data from multiple sources and remove duplicate records\n",
    "full_df = pd.concat([alonso_0208_lab, alonso_0208_nor, alonso_0208_ovs, alonso_0208_res, alonso_1201_lab, alonso_1201_nor])\n",
    "full_df = full_df.drop_duplicates()\n",
    "full_df = full_df.drop(columns=['Unnamed: 0'])\n",
    "\n",
    "# Reverse the risk level for uniform risk scoring (higher values indicate greater risk)\n",
    "full_df['risk_level'] = 5 - full_df['risk_level']"
   ]
  },
  {
   "cell_type": "markdown",
   "id": "c8edd63d",
   "metadata": {},
   "source": [
    "# Split and Scale the Data"
   ]
  },
  {
   "cell_type": "code",
   "execution_count": 179,
   "id": "bd1f47c2",
   "metadata": {},
   "outputs": [],
   "source": [
    "# Separate features and target for training and testing\n",
    "X = full_df.drop(columns=['risk_level'])\n",
    "y = full_df['risk_level']\n",
    "\n",
    "# Split the data into training and testing sets\n",
    "X_train, X_test, y_train, y_test = train_test_split(X, y, test_size=0.2, random_state=42)\n",
    "\n",
    "# Scale the data for better convergence\n",
    "scaler = StandardScaler()\n",
    "X_train_scaled = scaler.fit_transform(X_train)\n",
    "X_test_scaled = scaler.transform(X_test)"
   ]
  },
  {
   "cell_type": "markdown",
   "id": "d24f8d41",
   "metadata": {},
   "source": [
    "# Train a Multinomial Logistic Regression Model"
   ]
  },
  {
   "cell_type": "code",
   "execution_count": null,
   "id": "b3758949",
   "metadata": {},
   "outputs": [],
   "source": [
    "# Train a logistic regression model with balanced class weight to predict risk level\n",
    "logistic_model = LogisticRegression(multi_class='multinomial', solver='lbfgs', max_iter=1000, class_weight='balanced')\n",
    "logistic_model.fit(X_train_scaled, y_train)\n",
    "\n",
    "# Predict risk levels on test data with probabilities\n",
    "y_pred_logistic = logistic_model.predict_proba(X_test_scaled)\n",
    "\n",
    "# Define risk values for weighted prediction calculation\n",
    "risk_values = np.array([0, 0.33, 0.67, 1])\n",
    "y_pred_weighted = np.dot(y_pred_logistic, risk_values)"
   ]
  },
  {
   "cell_type": "markdown",
   "id": "4bdc8f63",
   "metadata": {},
   "source": [
    "# Feature Importance Analysis"
   ]
  },
  {
   "cell_type": "code",
   "execution_count": 152,
   "id": "85f270de",
   "metadata": {},
   "outputs": [
    {
     "name": "stdout",
     "output_type": "stream",
     "text": [
      "               Feature  Importance\n",
      "9           visibility   16.508738\n",
      "5   engine_temperature    6.964229\n",
      "0     observation_hour    6.254969\n",
      "7           heart_rate    5.824795\n",
      "12        design_speed    4.489696\n",
      "1                speed    2.377940\n",
      "8      current_weather    2.240212\n",
      "13      accidents_time    1.511282\n",
      "10       precipitation    1.340412\n",
      "2                  rpm    1.078075\n",
      "4    throttle_position    0.489985\n",
      "11    accidents_onsite    0.381964\n",
      "3         acceleration    0.325192\n",
      "6    engine_load_value    0.144017\n"
     ]
    }
   ],
   "source": [
    "# Extract feature importance from the trained logistic regression model coefficients\n",
    "coefficients = logistic_model.coef_\n",
    "\n",
    "# Calculate absolute importance values for each feature\n",
    "importance = np.abs(coefficients).mean(axis=0)\n",
    "\n",
    "# Create a DataFrame to display feature importance and sort it\n",
    "importance_df = pd.DataFrame({\n",
    "    'Feature': X_train.columns,\n",
    "    'Importance': importance\n",
    "}).sort_values(by='Importance', ascending=False)\n",
    "\n",
    "# Display the ranked feature importance to assess the impact of variables on the model\n",
    "print(importance_df)"
   ]
  }
 ],
 "metadata": {
  "kernelspec": {
   "display_name": "Python 3 (ipykernel)",
   "language": "python",
   "name": "python3"
  },
  "language_info": {
   "codemirror_mode": {
    "name": "ipython",
    "version": 3
   },
   "file_extension": ".py",
   "mimetype": "text/x-python",
   "name": "python",
   "nbconvert_exporter": "python",
   "pygments_lexer": "ipython3",
   "version": "3.11.5"
  }
 },
 "nbformat": 4,
 "nbformat_minor": 5
}
